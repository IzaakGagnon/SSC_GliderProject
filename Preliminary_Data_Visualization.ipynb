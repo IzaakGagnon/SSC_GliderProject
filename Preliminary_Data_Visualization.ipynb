{
  "nbformat": 4,
  "nbformat_minor": 0,
  "metadata": {
    "colab": {
      "provenance": [],
      "authorship_tag": "ABX9TyNAdea6VhQ70OSSLXXCLFej",
      "include_colab_link": true
    },
    "kernelspec": {
      "name": "python3",
      "display_name": "Python 3"
    },
    "language_info": {
      "name": "python"
    }
  },
  "cells": [
    {
      "cell_type": "markdown",
      "metadata": {
        "id": "view-in-github",
        "colab_type": "text"
      },
      "source": [
        "<a href=\"https://colab.research.google.com/github/IzaakGagnon/SSC_GliderProject/blob/main/Preliminary_Data_Visualization.ipynb\" target=\"_parent\"><img src=\"https://colab.research.google.com/assets/colab-badge.svg\" alt=\"Open In Colab\"/></a>"
      ]
    },
    {
      "cell_type": "code",
      "source": [
        "!pip install pykrige"
      ],
      "metadata": {
        "colab": {
          "base_uri": "https://localhost:8080/"
        },
        "id": "p8nQ7xGmQ7hh",
        "outputId": "9bf2c718-6021-461d-8c5c-c7d312670f17"
      },
      "execution_count": null,
      "outputs": [
        {
          "output_type": "stream",
          "name": "stdout",
          "text": [
            "Collecting pykrige\n",
            "  Downloading PyKrige-1.7.2-cp311-cp311-manylinux_2_17_x86_64.manylinux2014_x86_64.whl.metadata (8.1 kB)\n",
            "Requirement already satisfied: numpy>=1.20.0 in /usr/local/lib/python3.11/dist-packages (from pykrige) (1.26.4)\n",
            "Requirement already satisfied: scipy<2,>=1.1.0 in /usr/local/lib/python3.11/dist-packages (from pykrige) (1.13.1)\n",
            "Downloading PyKrige-1.7.2-cp311-cp311-manylinux_2_17_x86_64.manylinux2014_x86_64.whl (979 kB)\n",
            "\u001b[2K   \u001b[90m━━━━━━━━━━━━━━━━━━━━━━━━━━━━━━━━━━━━━━━━\u001b[0m \u001b[32m979.6/979.6 kB\u001b[0m \u001b[31m7.4 MB/s\u001b[0m eta \u001b[36m0:00:00\u001b[0m\n",
            "\u001b[?25hInstalling collected packages: pykrige\n",
            "Successfully installed pykrige-1.7.2\n"
          ]
        }
      ]
    },
    {
      "cell_type": "code",
      "execution_count": null,
      "metadata": {
        "id": "Al09cRP9QkA-"
      },
      "outputs": [],
      "source": [
        "import pandas as pd\n",
        "import numpy as np\n",
        "import matplotlib.pyplot as plt\n",
        "from pykrige.ok import OrdinaryKriging\n",
        "import gc\n",
        "\n",
        "# List of dataset file paths\n",
        "file_names = [\n",
        "    \"/content/cabot_20220603_155_delayed_corrected_v4.csv\",\n",
        "    \"/content/fundy_20190604_99_delayed_corrected_v4.csv\",\n",
        "    \"/content/sambro_20210705_134_delayed_corrected_v4.csv\",\n",
        "    \"/content/scotia_20180720_87_delayed_corrected_v4.csv\",\n",
        "    \"/content/scotia_20181113_95_delayed_corrected_v4.csv\"\n",
        "]\n",
        "\n",
        "# Read and concatenate the datasets\n",
        "dfs = [pd.read_csv(f) for f in file_names]\n",
        "data = pd.concat(dfs, ignore_index=True)\n",
        "\n",
        "# Randomly sample 2% of the data to further reduce memory usage.\n",
        "sample_frac = 0.02  # Try 5% of the data\n",
        "data_sampled = data.sample(frac=sample_frac, random_state=42)\n",
        "\n",
        "# Ensure key columns are numeric and drop any rows with missing values.\n",
        "for col in ['latitude', 'longitude', 'micromoles_of_oxygen_per_unit_mass_in_sea_water']:\n",
        "    data_sampled[col] = pd.to_numeric(data_sampled[col], errors='coerce')\n",
        "data_sampled = data_sampled.dropna(subset=['latitude', 'longitude', 'micromoles_of_oxygen_per_unit_mass_in_sea_water'])\n",
        "\n",
        "# Downcast numeric columns to float32 to reduce memory usage.\n",
        "lat = data_sampled['latitude'].values.astype(np.float32)\n",
        "lon = data_sampled['longitude'].values.astype(np.float32)\n",
        "oxygen = data_sampled['micromoles_of_oxygen_per_unit_mass_in_sea_water'].values.astype(np.float32)\n",
        "\n",
        "# Free memory from the full dataset if not needed further\n",
        "del data, dfs\n",
        "gc.collect()\n",
        "\n",
        "# Create a grid over the study area with reduced resolution.\n",
        "grid_resolution = 20  # Use a coarser grid (20 points instead of 50 or 100)\n",
        "grid_lon = np.linspace(lon.min(), lon.max(), grid_resolution)\n",
        "grid_lat = np.linspace(lat.min(), lat.max(), grid_resolution)\n",
        "grid_lon_mesh, grid_lat_mesh = np.meshgrid(grid_lon, grid_lat)\n",
        "\n",
        "# Set up Ordinary Kriging with a linear variogram model.\n",
        "OK = OrdinaryKriging(lon, lat, oxygen,\n",
        "                     variogram_model='linear',\n",
        "                     verbose=False,\n",
        "                     enable_plotting=False)\n",
        "\n",
        "# Perform the kriging interpolation on the grid.\n",
        "z, ss = OK.execute('grid', grid_lon, grid_lat)\n",
        "\n",
        "# Plot the interpolated oxygen field overlaid with the sampled data points.\n",
        "plt.figure(figsize=(8, 6))\n",
        "contour = plt.contourf(grid_lon_mesh, grid_lat_mesh, z, cmap='viridis', levels=50)\n",
        "plt.scatter(lon, lat, c=oxygen, edgecolor='k', s=20, label='Glider Observations (Sampled)')\n",
        "plt.colorbar(contour, label='Oxygen Concentration (µmol/kg)')\n",
        "plt.xlabel('Longitude')\n",
        "plt.ylabel('Latitude')\n",
        "plt.title('Kriging Interpolation with Reduced Data and Grid Resolution')\n",
        "plt.legend()\n",
        "plt.show()"
      ]
    }
  ]
}